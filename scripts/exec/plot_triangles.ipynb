{
 "cells": [
  {
   "cell_type": "code",
   "execution_count": 2,
   "metadata": {},
   "outputs": [
    {
     "name": "stderr",
     "output_type": "stream",
     "text": [
      "/home/users/g/f/gfacchin/exo21cmFAST_release/exo21cmFAST/src/py21cmfast/_cfg.py:57: UserWarning: Your configuration file is out of date. Updating...\n",
      "  warnings.warn(\n",
      "/home/users/g/f/gfacchin/exo21cmFAST_release/exo21cmFAST/src/py21cmfast/_cfg.py:41: UserWarning: Your configuration file is out of date. Updating...\n",
      "  warnings.warn(\"Your configuration file is out of date. Updating...\")\n"
     ]
    }
   ],
   "source": [
    "import py21cmcast as p21c\n",
    "import numpy as np \n",
    "\n",
    "from astropy import units\n",
    "\n",
    "import warnings\n",
    "warnings.filterwarnings(\"ignore\", category=np.VisibleDeprecationWarning)\n",
    "\n",
    "%load_ext autoreload\n",
    "%autoreload 2"
   ]
  },
  {
   "attachments": {},
   "cell_type": "markdown",
   "metadata": {},
   "source": [
    "## II. Define the grid of modes and redshifts"
   ]
  },
  {
   "cell_type": "code",
   "execution_count": 51,
   "metadata": {},
   "outputs": [],
   "source": [
    "z_bins, k_bins = p21c.define_grid_modes_redshifts(6., 8 * units.MHz, z_max = 22, k_min = 0.1 / units.Mpc, k_max = 1 / units.Mpc)\n",
    "\n",
    "fiducial = [None] * 2\n",
    "\n",
    "fiducial[0]= p21c.Fiducial(\"../runs/CONSTRAINT_BKR\", z_bins, k_bins, False, load = True)\n",
    "fiducial[1] = p21c.Fiducial(\"../runs/CONSTRAINT_BKR_MINIHALOS\", z_bins, k_bins, False, load = True)\n",
    "\n",
    "for fid in fiducial:\n",
    "    fid.observation = 'HERA'"
   ]
  },
  {
   "cell_type": "code",
   "execution_count": 54,
   "metadata": {},
   "outputs": [
    {
     "name": "stdout",
     "output_type": "stream",
     "text": [
      "Treating parameter F_STAR10\n",
      "Treating parameter ALPHA_STAR\n",
      "Treating parameter F_ESC10\n",
      "Treating parameter ALPHA_ESC\n",
      "Treating parameter M_TURN\n",
      "Treating parameter t_STAR\n",
      "Treating parameter L_X\n",
      "Treating parameter NU_X_THRESH\n",
      "Treating parameter F_STAR10\n",
      "Treating parameter F_STAR7_MINI\n",
      "Treating parameter ALPHA_STAR\n",
      "Treating parameter ALPHA_STAR_MINI\n",
      "Treating parameter t_STAR\n",
      "Treating parameter F_ESC10\n",
      "Treating parameter F_ESC7_MINI\n",
      "Treating parameter ALPHA_ESC\n",
      "Treating parameter L_X\n",
      "Treating parameter L_X_MINI\n",
      "Treating parameter NU_X_THRESH\n"
     ]
    }
   ],
   "source": [
    "## Classical sets of parameters\n",
    "parameter_names_clas = ['F_STAR10', 'ALPHA_STAR', 'F_ESC10', 'ALPHA_ESC',  'M_TURN', 't_STAR', 'L_X', 'NU_X_THRESH']\n",
    "parameter_names_mini_1 = ['F_STAR10', 'F_STAR7_MINI', 'ALPHA_STAR', 'ALPHA_STAR_MINI',  't_STAR', 'F_ESC10', 'F_ESC7_MINI', 'ALPHA_ESC', 'L_X', 'L_X_MINI', 'NU_X_THRESH']\n",
    "parameter_names_mini_2 = ['F_STAR10', 'ALPHA_STAR', 'F_ESC10', 'ALPHA_ESC', 'F_STAR7_MINI', 'ALPHA_STAR_MINI', 'F_ESC7_MINI',  'A_LW', 'L_X', 'NU_X_THRESH']\n",
    "\n",
    "parameter_names = [parameter_names_clas, parameter_names_mini_1]\n",
    "params = [[None] * len(parameter_names[i])  for i, _ in enumerate(fiducial)]\n",
    "\n",
    "for ifid, fid in enumerate(fiducial):\n",
    "    for iname, name in enumerate(parameter_names[ifid]) :  \n",
    "        params[ifid][iname] = p21c.Parameter(fiducial=fid, name=name, verbose = False, plot = False, load=True)"
   ]
  },
  {
   "cell_type": "code",
   "execution_count": 60,
   "metadata": {},
   "outputs": [
    {
     "name": "stdout",
     "output_type": "stream",
     "text": [
      "Treating parameter DM_DECAY_RATE (m8.0)\n",
      "Treating parameter DM_DECAY_RATE (m8.0)\n"
     ]
    }
   ],
   "source": [
    "extra_names  = ['m8.0', 'm8.0']\n",
    "values        = [1e-29, 5e-29]\n",
    "extra_params = [None] * len(extra_names)\n",
    "\n",
    "for iname, extra_name in enumerate(extra_names) :  \n",
    "    extra_params[iname] = p21c.Parameter(fiducial=fiducial[iname], name='DM_DECAY_RATE', verbose = False, plot=False, load=True, add_name = extra_name, values=values[iname])\n",
    "    #extra_params[iname].plot_power_spectra(color=['b', 'k', 'r'])"
   ]
  },
  {
   "attachments": {},
   "cell_type": "markdown",
   "metadata": {},
   "source": [
    "## VI. Evaluate the Fisher matrix and its inverse\n",
    "\n",
    "From the list of parameters objects defined above one can directly compute the Fisher matrix with the **evaluate\\_fisher\\_matrix()** function. One can add a modeling noise to the power spectrum with the attribute **frac\\_noise** of the fiducial (as a percentage of the fiducial value). The triangle plot figure can be produced with the function **make\\_triangle\\_plot()** and plotted. Finally, the matrices can be displayed nicely with the **display\\_matrix()** function."
   ]
  },
  {
   "cell_type": "code",
   "execution_count": 71,
   "metadata": {},
   "outputs": [
    {
     "name": "stdout",
     "output_type": "stream",
     "text": [
      "----------\n"
     ]
    },
    {
     "data": {
      "text/plain": [
       "array([3.06011727e+28, 1.48847148e+27])"
      ]
     },
     "execution_count": 71,
     "metadata": {},
     "output_type": "execute_result"
    }
   ],
   "source": [
    "sigma_tau = np.zeros(len(extra_names))\n",
    "\n",
    "fisher_matrix = [None] * len(fiducial)\n",
    "covariance_matrix = [None] * len(fiducial)\n",
    "\n",
    "for iname, extra_name in enumerate(extra_names) : \n",
    "    fiducial[iname].frac_noise = 0.2\n",
    "    fisher_matrix[iname]     = p21c.evaluate_fisher_matrix([*params[iname], extra_params[iname]])\n",
    "    covariance_matrix[iname] = np.linalg.inv(fisher_matrix[iname]['matrix'])\n",
    "    sigma_tau[iname]         = 1/(2.*np.sqrt(covariance_matrix[iname][-1][-1]))\n",
    "\n",
    "covariance_matrix = np.array(covariance_matrix)\n",
    "\n",
    "print('----------')\n",
    "np.array(sigma_tau)"
   ]
  },
  {
   "cell_type": "code",
   "execution_count": 1,
   "metadata": {},
   "outputs": [
    {
     "ename": "NameError",
     "evalue": "name 'p21c' is not defined",
     "output_type": "error",
     "traceback": [
      "\u001b[0;31m---------------------------------------------------------------------------\u001b[0m",
      "\u001b[0;31mNameError\u001b[0m                                 Traceback (most recent call last)",
      "\u001b[1;32m/home/ulb/physth_fi/gfacchin/exo21cmFAST_release/21cmCAST/scripts/exec/plot_triangles.ipynb Cellule 8\u001b[0m in \u001b[0;36m2\n\u001b[1;32m      <a href='vscode-notebook-cell://ssh-remote%2Bnic5/home/ulb/physth_fi/gfacchin/exo21cmFAST_release/21cmCAST/scripts/exec/plot_triangles.ipynb#X30sdnNjb2RlLXJlbW90ZQ%3D%3D?line=0'>1</a>\u001b[0m get_ipython()\u001b[39m.\u001b[39mrun_line_magic(\u001b[39m'\u001b[39m\u001b[39mmatplotlib\u001b[39m\u001b[39m'\u001b[39m, \u001b[39m'\u001b[39m\u001b[39minline\u001b[39m\u001b[39m'\u001b[39m)\n\u001b[0;32m----> <a href='vscode-notebook-cell://ssh-remote%2Bnic5/home/ulb/physth_fi/gfacchin/exo21cmFAST_release/21cmCAST/scripts/exec/plot_triangles.ipynb#X30sdnNjb2RlLXJlbW90ZQ%3D%3D?line=1'>2</a>\u001b[0m p21c\u001b[39m.\u001b[39mmake_triangle_plot(covariance_matrix, [fish[\u001b[39m'\u001b[39m\u001b[39mname\u001b[39m\u001b[39m'\u001b[39m] \u001b[39mfor\u001b[39;00m fish \u001b[39min\u001b[39;00m fisher_matrix], [fid\u001b[39m.\u001b[39mastro_params \u001b[39mfor\u001b[39;00m fid \u001b[39min\u001b[39;00m fiducial], color\u001b[39m=\u001b[39m[\u001b[39m'\u001b[39m\u001b[39mr\u001b[39m\u001b[39m'\u001b[39m])\n",
      "\u001b[0;31mNameError\u001b[0m: name 'p21c' is not defined"
     ]
    }
   ],
   "source": [
    "%matplotlib inline\n",
    "p21c.make_triangle_plot(covariance_matrix, [fish['name'] for fish in fisher_matrix], [fid.astro_params for fid in fiducial], color=['r'])"
   ]
  },
  {
   "cell_type": "code",
   "execution_count": 23,
   "metadata": {},
   "outputs": [
    {
     "name": "stdout",
     "output_type": "stream",
     "text": [
      "Treating parameter F_STAR10\n",
      "Treating parameter ALPHA_STAR\n",
      "Treating parameter F_ESC10\n",
      "Treating parameter ALPHA_ESC\n",
      "Treating parameter F_STAR7_MINI\n",
      "Treating parameter ALPHA_STAR_MINI\n",
      "Treating parameter F_ESC7_MINI\n",
      "Treating parameter A_LW\n",
      "Treating parameter L_X\n",
      "Treating parameter NU_X_THRESH\n",
      "Warning: frac noise and modeling noise have been changed, all related quantities should be recomputed\n"
     ]
    }
   ],
   "source": [
    "#parameter_names = ['F_STAR10', 'F_STAR7_MINI', 'ALPHA_STAR', 'ALPHA_STAR_MINI', \n",
    "#                   'F_ESC10', 'F_ESC7_MINI', 'ALPHA_ESC', 'L_X', 'NU_X_THRESH']\n",
    "\n",
    "parameter_names = ['F_STAR10', 'ALPHA_STAR', 'F_ESC10', 'ALPHA_ESC', 'F_STAR7_MINI', 'ALPHA_STAR_MINI',\n",
    "                  'F_ESC7_MINI',  'A_LW', 'L_X', 'NU_X_THRESH']\n",
    "\n",
    "params = [None] * len(parameter_names)\n",
    "\n",
    "for iname, name in enumerate(parameter_names) :  \n",
    "    params[iname] = p21c.Parameter(fiducial=fiducial, name=name, verbose = False, plot = False, load=True)\n",
    "\n",
    "fiducial.frac_noise = 0.2\n",
    "\n",
    "fisher_matrix     = p21c.evaluate_fisher_matrix(params)\n",
    "covariance_matrix = np.linalg.inv(fisher_matrix['matrix'])\n",
    "fig = p21c.make_triangle_plot(covariance_matrix, fisher_matrix['name'], fiducial.astro_params)\n",
    "fig.savefig(fiducial.dir_path + '/triangle_plot.pdf')"
   ]
  },
  {
   "cell_type": "code",
   "execution_count": null,
   "metadata": {},
   "outputs": [],
   "source": []
  }
 ],
 "metadata": {
  "kernelspec": {
   "display_name": "Python 3.9.6 ('exo21cmFAST_release': venv)",
   "language": "python",
   "name": "python3"
  },
  "language_info": {
   "codemirror_mode": {
    "name": "ipython",
    "version": 3
   },
   "file_extension": ".py",
   "mimetype": "text/x-python",
   "name": "python",
   "nbconvert_exporter": "python",
   "pygments_lexer": "ipython3",
   "version": "3.9.6"
  },
  "orig_nbformat": 4,
  "vscode": {
   "interpreter": {
    "hash": "b978f4ecbf43ad133bda540fcbea492cd113875f61480fb8ce8c71a82633a1e6"
   }
  }
 },
 "nbformat": 4,
 "nbformat_minor": 2
}
