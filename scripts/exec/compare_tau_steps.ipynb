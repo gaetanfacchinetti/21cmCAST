{
 "cells": [
  {
   "cell_type": "code",
   "execution_count": 1,
   "metadata": {},
   "outputs": [
    {
     "name": "stderr",
     "output_type": "stream",
     "text": [
      "/home/users/g/f/gfacchin/exo21cmFAST_release/exo21cmFAST/src/py21cmfast/_cfg.py:57: UserWarning: Your configuration file is out of date. Updating...\n",
      "  warnings.warn(\n",
      "/home/users/g/f/gfacchin/exo21cmFAST_release/exo21cmFAST/src/py21cmfast/_cfg.py:41: UserWarning: Your configuration file is out of date. Updating...\n",
      "  warnings.warn(\"Your configuration file is out of date. Updating...\")\n"
     ]
    }
   ],
   "source": [
    "import py21cmcast as p21c\n",
    "import numpy as np \n",
    "\n",
    "from astropy import units\n",
    "\n",
    "import warnings\n",
    "warnings.filterwarnings(\"ignore\", category=np.VisibleDeprecationWarning)\n",
    "\n",
    "%load_ext autoreload\n",
    "%autoreload 2"
   ]
  },
  {
   "cell_type": "code",
   "execution_count": 2,
   "metadata": {},
   "outputs": [
    {
     "name": "stdout",
     "output_type": "stream",
     "text": [
      "The redshift bin edges are: [ 6.          6.28730456  6.5992025   6.93899281  7.31059216  7.71868653\n",
      "  8.16892985  8.66820756  9.22499121  9.84982306 10.55599    11.36047883\n",
      " 12.28536057 13.35984643 14.62342929 16.13084378 17.96020444 20.22698157]\n",
      "The mode bin edges are: [0.1        0.15329426 0.20658851 0.25988277 0.31317703 0.36647129\n",
      " 0.41976554 0.4730598  0.52635406 0.57964831 0.63294257 0.68623683\n",
      " 0.73953109 0.79282534 0.8461196  0.89941386 0.95270811] 1 / Mpc\n"
     ]
    }
   ],
   "source": [
    "z_bins, k_bins = p21c.define_grid_modes_redshifts(6., 8 * units.MHz, z_max = 22, k_min = 0.1 / units.Mpc, k_max = 1 / units.Mpc)\n",
    "print(\"The redshift bin edges are:\", z_bins)\n",
    "print(\"The mode bin edges are:\", k_bins)\n",
    "\n",
    "fiducial = p21c.Fiducial(\"../runs/CONSTRAINT_BKR\", z_bins, k_bins, False, load=True)\n",
    " \n",
    "fiducial.observation = 'HERA'"
   ]
  },
  {
   "cell_type": "code",
   "execution_count": 3,
   "metadata": {},
   "outputs": [
    {
     "name": "stdout",
     "output_type": "stream",
     "text": [
      "Treating parameter F_STAR10\n",
      "Treating parameter ALPHA_STAR\n",
      "Treating parameter F_ESC10\n",
      "Treating parameter ALPHA_ESC\n",
      "Treating parameter M_TURN\n",
      "Treating parameter t_STAR\n",
      "Treating parameter L_X\n",
      "Treating parameter NU_X_THRESH\n"
     ]
    }
   ],
   "source": [
    "parameter_names = ['F_STAR10', 'ALPHA_STAR', 'F_ESC10', 'ALPHA_ESC',  'M_TURN', 't_STAR', 'L_X', 'NU_X_THRESH']\n",
    "#parameter_names = ['F_STAR10', 'F_STAR7_MINI', 'ALPHA_STAR', 'ALPHA_STAR_MINI',  't_STAR', \n",
    "#                   'F_ESC10', 'F_ESC7_MINI', 'ALPHA_ESC', 'L_X', 'L_X_MINI', 'NU_X_THRESH']\n",
    "\n",
    "params = [None] * len(parameter_names)\n",
    "\n",
    "for iname, name in enumerate(parameter_names) :  \n",
    "    params[iname] = p21c.Parameter(fiducial=fiducial, name=name, verbose = False, plot = False, load=True)"
   ]
  },
  {
   "cell_type": "code",
   "execution_count": 5,
   "metadata": {},
   "outputs": [
    {
     "name": "stdout",
     "output_type": "stream",
     "text": [
      "Treating parameter DM_DECAY_RATE (m8.0)\n",
      "Treating parameter DM_DECAY_RATE (m8.0)\n",
      "Treating parameter DM_DECAY_RATE (m8.0)\n",
      "Treating parameter DM_DECAY_RATE (m8.0)\n",
      "No existing data found for Lightcone_rs1993_DM_DECAY_RATE_m8.0_1.0000e-33.h5\n",
      "Treating parameter DM_DECAY_RATE (m8.0)\n",
      "Treating parameter DM_DECAY_RATE (m8.0)\n",
      "Treating parameter DM_DECAY_RATE (m8.0)\n",
      "Treating parameter DM_DECAY_RATE (m8.0)\n",
      "Treating parameter DM_DECAY_RATE (m8.0)\n",
      "Treating parameter DM_DECAY_RATE (m8.0)\n",
      "Treating parameter DM_DECAY_RATE (m8.0)\n"
     ]
    }
   ],
   "source": [
    "val_gamma  = [1e-36, 1e-35, 1e-34, 1e-33, 1e-32, 1e-31, 1e-30, 1e-29, 1e-28, 1e-27, 1e-26]\n",
    "extra_params = [None] * len(val_gamma)\n",
    "\n",
    "for iname, val in enumerate(val_gamma) :  \n",
    "    extra_params[iname] = p21c.Parameter(fiducial=fiducial, name='DM_DECAY_RATE', verbose = False, plot=False, load=True, add_name = 'm8.0', values = val)"
   ]
  },
  {
   "cell_type": "code",
   "execution_count": 6,
   "metadata": {},
   "outputs": [
    {
     "name": "stdout",
     "output_type": "stream",
     "text": [
      "Warning: frac noise and modeling noise have been changed, all related quantities should be recomputed\n",
      "----------\n",
      "[1.78163796e+29 4.51414670e+28 3.10451115e+28 3.35273752e+28\n",
      " 3.44857647e+28 3.27657908e+28 3.27866633e+28 3.06011727e+28\n",
      " 2.10264626e+28 1.10471464e+28 1.77055058e+27]\n"
     ]
    }
   ],
   "source": [
    "fiducial.frac_noise = 0.2\n",
    "\n",
    "sigma_tau = np.zeros(len(val_gamma))\n",
    "\n",
    "for iname, val in enumerate(val_gamma) : \n",
    "    fisher_matrix     = p21c.evaluate_fisher_matrix([*params, extra_params[iname]])\n",
    "    covariance_matrix = np.linalg.inv(fisher_matrix['matrix'])\n",
    "    sigma_tau[iname] = 1/(2.*np.sqrt(covariance_matrix[-1][-1]))\n",
    "\n",
    "print('----------')\n",
    "print(sigma_tau)"
   ]
  },
  {
   "cell_type": "code",
   "execution_count": 16,
   "metadata": {},
   "outputs": [
    {
     "data": {
      "text/plain": [
       "<matplotlib.lines.Line2D at 0x1467b091fbe0>"
      ]
     },
     "execution_count": 16,
     "metadata": {},
     "output_type": "execute_result"
    },
    {
     "data": {
      "image/png": "[encoded data removed]",
      "text/plain": [
       "<Figure size 500x400 with 1 Axes>"
      ]
     },
     "metadata": {},
     "output_type": "display_data"
    }
   ],
   "source": [
    "%matplotlib inline\n",
    "\n",
    "sigma_tau_MINIHALOS = [ 5.19683881e+30, 5.16799457e+29, 5.07681694e+28,\n",
    " 6.43874756e+27, 2.04968051e+27, 1.82196820e+27, 1.37220418e+27,\n",
    " 1.82142164e+27, 4.20497971e+26]\n",
    "val_gamma_MINIHALOS = [ 1e-34, 1e-33, 1e-32, 1e-31, 1e-30, 1e-29, 1e-28, 1e-27, 1e-26]\n",
    "\n",
    "fig, ax = p21c.prepare_plot(ylog=True, xlog=True, xlabel=r'$\\delta \\Gamma ~ [{\\rm s^{-1}}]$', ylabel=r'$\\tau(95\\%) ~ [{\\rm s}]$')\n",
    "ax.plot(val_gamma, sigma_tau, marker='o', linestyle = 'none', color='b')\n",
    "ax.plot(val_gamma_MINIHALOS, sigma_tau_MINIHALOS, marker='o', linestyle = 'none', color='r')\n",
    "#ax.plot(val_gamma, 0.1/(2*np.array(val_gamma)), 'k-')\n",
    "ax.axhline(y=3e+28, color='b', linestyle='--')\n",
    "ax.axhline(y=1.5e+27, color='r', linestyle='--')"
   ]
  },
  {
   "cell_type": "code",
   "execution_count": 13,
   "metadata": {},
   "outputs": [
    {
     "data": {
      "text/plain": [
       "<matplotlib.colorbar.Colorbar at 0x1467b0bd0910>"
      ]
     },
     "execution_count": 13,
     "metadata": {},
     "output_type": "execute_result"
    },
    {
     "data": {
      "image/png": "[encoded data removed]",
      "text/plain": [
       "<Figure size 500x400 with 2 Axes>"
      ]
     },
     "metadata": {},
     "output_type": "display_data"
    }
   ],
   "source": [
    "fig, ax = p21c.prepare_plot(ylog=True, xlog=True, xlabel=r'$\\delta \\Gamma ~ [{\\rm s^{-1}}]$', ylabel=r'$\\delta \\Gamma ~ [{\\rm s^{-1}}]$')\n",
    "\n",
    "def L2_norm(array_1, array_2):\n",
    "    return np.sqrt(np.sum((array_1 - array_2)**2))\n",
    "\n",
    "dist_matrix = np.zeros(shape=(len(val_gamma), len(val_gamma)))\n",
    "\n",
    "for i, ival in enumerate(val_gamma) :  \n",
    "    for j, jval in enumerate(val_gamma) :\n",
    "        dist_matrix[i][j] = L2_norm(extra_params[i].weighted_ps_derivative(), extra_params[j].weighted_ps_derivative()) \n",
    "\n",
    "    dist_matrix[i][i] = np.nan\n",
    "\n",
    "\n",
    "c = ax.pcolormesh([*val_gamma, 1e-25], [*val_gamma, 1e-25],  np.log10(dist_matrix/np.nanmax(dist_matrix)), cmap='coolwarm')\n",
    "fig.colorbar(c, ax = ax)"
   ]
  },
  {
   "cell_type": "code",
   "execution_count": null,
   "metadata": {},
   "outputs": [],
   "source": []
  }
 ],
 "metadata": {
  "kernelspec": {
   "display_name": "Python 3.9.6 ('exo21cmFAST_release': venv)",
   "language": "python",
   "name": "python3"
  },
  "language_info": {
   "codemirror_mode": {
    "name": "ipython",
    "version": 3
   },
   "file_extension": ".py",
   "mimetype": "text/x-python",
   "name": "python",
   "nbconvert_exporter": "python",
   "pygments_lexer": "ipython3",
   "version": "3.9.6"
  },
  "orig_nbformat": 4,
  "vscode": {
   "interpreter": {
    "hash": "b978f4ecbf43ad133bda540fcbea492cd113875f61480fb8ce8c71a82633a1e6"
   }
  }
 },
 "nbformat": 4,
 "nbformat_minor": 2
}
