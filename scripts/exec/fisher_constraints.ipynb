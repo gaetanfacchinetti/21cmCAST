{
 "cells": [
  {
   "cell_type": "code",
   "execution_count": 1,
   "metadata": {},
   "outputs": [
    {
     "name": "stderr",
     "output_type": "stream",
     "text": [
      "/home/users/g/f/gfacchin/exo21cmFAST_release/exo21cmFAST/src/py21cmfast/_cfg.py:57: UserWarning: Your configuration file is out of date. Updating...\n",
      "  warnings.warn(\n",
      "/home/users/g/f/gfacchin/exo21cmFAST_release/exo21cmFAST/src/py21cmfast/_cfg.py:41: UserWarning: Your configuration file is out of date. Updating...\n",
      "  warnings.warn(\"Your configuration file is out of date. Updating...\")\n"
     ]
    }
   ],
   "source": [
    "import py21cmcast as p21c\n",
    "import numpy as np \n",
    "\n",
    "from astropy import units\n",
    "\n",
    "import warnings\n",
    "warnings.filterwarnings(\"ignore\", category=np.VisibleDeprecationWarning)\n",
    "\n",
    "%load_ext autoreload\n",
    "%autoreload 2"
   ]
  },
  {
   "attachments": {},
   "cell_type": "markdown",
   "metadata": {},
   "source": [
    "## I. Create the configuration files for varying parameters\n",
    "\n",
    "See the examples of master configuration files in the config folder. Running **init\\_fisher\\_from\\_fiducial** will create a folder (named after the run name set in the master configuration file) and sub configuration files inside (which correspond to the variation of each parameter). Once they are created each can by run with the script [**run\\_fisher.py**](https://github.com/gaetanfacchinetti/21cmCAST/blob/main/scripts/exec/run_fisher.py). Note that the script takes at least one argument (the name of the sub configuration files to run) and three optional: the number of threads, the number of the first seed, and the number of times the same script should be run with increasing seeds. The latter is only usefull to run several fiducial cases in order to determine what the 'average Universe' looks like. In practice, for a Fisher forecast one should fix the seed to a single value for all the runs. "
   ]
  },
  {
   "cell_type": "code",
   "execution_count": 3,
   "metadata": {},
   "outputs": [
    {
     "name": "stdout",
     "output_type": "stream",
     "text": [
      "Parameter F_STAR10 varied by 1.0 percent of the fiducial\n",
      "Parameter ALPHA_STAR varied by 3.0 percent of the fiducial\n",
      "Parameter t_STAR varied by 5.0 percent of the fiducial\n",
      "Parameter F_ESC10 varied by 1.0 percent of the fiducial\n",
      "Parameter ALPHA_ESC varied by 3.0 percent of the fiducial\n",
      "Parameter L_X varied by 0.3 percent of the fiducial\n",
      "Parameter M_TURN varied by 3.0 percent of the fiducial\n",
      "Parameter NU_X_THRESH varied by 3.0 percent of the fiducial\n"
     ]
    }
   ],
   "source": [
    "configuration_file = \"../config/constraint_bkr.config\"\n",
    "p21c.init_runs_from_fiducial(configuration_file, clean_existing_dir=False)"
   ]
  },
  {
   "attachments": {},
   "cell_type": "markdown",
   "metadata": {},
   "source": [
    "## II. Define the grid of modes and redshifts\n",
    "\n",
    "Let us call the function **define\\_grid\\_modes\\_redshits()**. It returns the bin edges for a fixed grid of modes and redshifts.\n",
    "\n",
    "- The redshift bins are computed from the frequency according to the formula\n",
    "\\begin{equation}\n",
    "z_n \\equiv \\frac{f_{21}}{\\frac{f_{21}}{1+z_0} - n B} -1\n",
    "\\end{equation}\n",
    "where $B$ is the bandwidth and $f_{21}$ is the 21cm frequency.\n",
    "\n",
    "- The mode bins are computed from the bandwidth according to the formula\n",
    "\\begin{equation}\n",
    "k_n \\equiv {\\rm max} \\left\\{k_{\\rm min},  \\delta k \\right\\} + n \\delta k \\quad {\\rm with} \\quad \\delta k \\equiv 2\\pi \\frac{f_{21}}{B} \\frac{H(z_0)}{c(1+z_0)^2}\n",
    "\\end{equation}\n",
    "This definition corresponds to the bins set by **21cmSense**. Note that the choice of redshift $z_0$ fixes the step of the mode bins."
   ]
  },
  {
   "cell_type": "code",
   "execution_count": 3,
   "metadata": {},
   "outputs": [
    {
     "name": "stdout",
     "output_type": "stream",
     "text": [
      "The redshift bin edges are: [ 6.          6.28730456  6.5992025   6.93899281  7.31059216  7.71868653\n",
      "  8.16892985  8.66820756  9.22499121  9.84982306 10.55599    11.36047883\n",
      " 12.28536057 13.35984643 14.62342929]\n",
      "The mode bin edges are: [0.1        0.15329426 0.20658851 0.25988277 0.31317703 0.36647129\n",
      " 0.41976554 0.4730598  0.52635406 0.57964831 0.63294257 0.68623683\n",
      " 0.73953109 0.79282534 0.8461196  0.89941386 0.95270811] 1 / Mpc\n"
     ]
    }
   ],
   "source": [
    "z_bins, k_bins = p21c.define_grid_modes_redshifts(6., 8 * units.MHz, z_max = 15, k_min = 0.1 / units.Mpc, k_max = 1 / units.Mpc)\n",
    "print(\"The redshift bin edges are:\", z_bins)\n",
    "print(\"The mode bin edges are:\", k_bins)"
   ]
  },
  {
   "attachments": {},
   "cell_type": "markdown",
   "metadata": {},
   "source": [
    "## III. Define the fiducial model and get its power spectrum\n",
    "\n",
    "A **Fiducial** object can be defined by specifying the path where the lightcones are saved (depends on what was set on the config file) as well as  the redshifts and modes bin edges. Note that we must set by hand whether the mode bins are linearly of logarithmically spaced with the option **logk**  that is by default **False** as the output mode bin deges returned by **define\\_grid\\_modes\\_redshits()** are linearly spaced. Further options can be specified, such as an **observation**  and a fraction of modeling error **frac\\_mod** (see below)."
   ]
  },
  {
   "cell_type": "code",
   "execution_count": 4,
   "metadata": {},
   "outputs": [],
   "source": [
    "fiducial = p21c.Fiducial(\"../runs/CONSTRAINT_BKR_MINIHALOS\", z_bins, k_bins, False, load = True)"
   ]
  },
  {
   "attachments": {},
   "cell_type": "markdown",
   "metadata": {},
   "source": [
    "Once the fiducial model is defined, we can check some of its properties:\n",
    "- by plotting the neutral hydrogen fraction 'xH_box' (provided they have been asked as output of the lightcone) and computing the optical depth to reionization\n",
    "- by computing the reduced $\\chi^2$ value from the UV luminosity data"
   ]
  },
  {
   "cell_type": "code",
   "execution_count": 5,
   "metadata": {},
   "outputs": [
    {
     "name": "stderr",
     "output_type": "stream",
     "text": [
      "2023-03-20 10:17:20,907 | WARNING | inputs.py::__init__() | USE_MINI_HALOS needs USE_RELATIVE_VELOCITIES to get the right evolution!\n",
      "calculating ACG LFs with mini-halo feature requires users to specify mturnovers!\n"
     ]
    },
    {
     "ename": "TypeError",
     "evalue": "unsupported operand type(s) for ** or pow(): 'int' and 'NoneType'",
     "output_type": "error",
     "traceback": [
      "\u001b[0;31m---------------------------------------------------------------------------\u001b[0m",
      "\u001b[0;31mTypeError\u001b[0m                                 Traceback (most recent call last)",
      "\u001b[1;32m/home/ulb/physth_fi/gfacchin/exo21cmFAST_release/21cmCAST/scripts/exec/fisher_constraints.ipynb Cell 9\u001b[0m in \u001b[0;36m4\n\u001b[1;32m      <a href='vscode-notebook-cell://ssh-remote%2Bnic5/home/ulb/physth_fi/gfacchin/exo21cmFAST_release/21cmCAST/scripts/exec/fisher_constraints.ipynb#X11sdnNjb2RlLXJlbW90ZQ%3D%3D?line=0'>1</a>\u001b[0m fiducial\u001b[39m.\u001b[39mplot_xH_box()\n\u001b[1;32m      <a href='vscode-notebook-cell://ssh-remote%2Bnic5/home/ulb/physth_fi/gfacchin/exo21cmFAST_release/21cmCAST/scripts/exec/fisher_constraints.ipynb#X11sdnNjb2RlLXJlbW90ZQ%3D%3D?line=1'>2</a>\u001b[0m fiducial\u001b[39m.\u001b[39mplot_global_signal()\n\u001b[0;32m----> <a href='vscode-notebook-cell://ssh-remote%2Bnic5/home/ulb/physth_fi/gfacchin/exo21cmFAST_release/21cmCAST/scripts/exec/fisher_constraints.ipynb#X11sdnNjb2RlLXJlbW90ZQ%3D%3D?line=3'>4</a>\u001b[0m chi2 \u001b[39m=\u001b[39m fiducial\u001b[39m.\u001b[39;49mchi2_UV_luminosity_functions(plot \u001b[39m=\u001b[39;49m \u001b[39mTrue\u001b[39;49;00m)\n\u001b[1;32m      <a href='vscode-notebook-cell://ssh-remote%2Bnic5/home/ulb/physth_fi/gfacchin/exo21cmFAST_release/21cmCAST/scripts/exec/fisher_constraints.ipynb#X11sdnNjb2RlLXJlbW90ZQ%3D%3D?line=5'>6</a>\u001b[0m \u001b[39mprint\u001b[39m(\u001b[39m'\u001b[39m\u001b[39mThe optical depth to reionization is:\u001b[39m\u001b[39m'\u001b[39m, fiducial\u001b[39m.\u001b[39mtau_ion)\n\u001b[1;32m      <a href='vscode-notebook-cell://ssh-remote%2Bnic5/home/ulb/physth_fi/gfacchin/exo21cmFAST_release/21cmCAST/scripts/exec/fisher_constraints.ipynb#X11sdnNjb2RlLXJlbW90ZQ%3D%3D?line=6'>7</a>\u001b[0m \u001b[39mprint\u001b[39m(\u001b[39m'\u001b[39m\u001b[39mThe reduced chi^2 from UV luminosity data is:\u001b[39m\u001b[39m'\u001b[39m, chi2)\n",
      "File \u001b[0;32m/home/users/g/f/gfacchin/exo21cmFAST_release/21cmCAST/src/py21cmcast/core.py:458\u001b[0m, in \u001b[0;36mFiducial.chi2_UV_luminosity_functions\u001b[0;34m(self, data_set, plot)\u001b[0m\n\u001b[1;32m    452\u001b[0m m_uv_sim , _ , log10_l_uv_sim  \u001b[39m=\u001b[39m p21f\u001b[39m.\u001b[39mcompute_luminosity_function(redshifts \u001b[39m=\u001b[39m z_uv, \n\u001b[1;32m    453\u001b[0m                                             user_params  \u001b[39m=\u001b[39m \u001b[39mself\u001b[39m\u001b[39m.\u001b[39m_user_params, \n\u001b[1;32m    454\u001b[0m                                             astro_params \u001b[39m=\u001b[39m \u001b[39mself\u001b[39m\u001b[39m.\u001b[39m_astro_params, \n\u001b[1;32m    455\u001b[0m                                             flag_options \u001b[39m=\u001b[39m \u001b[39mself\u001b[39m\u001b[39m.\u001b[39m_flag_options)\n\u001b[1;32m    457\u001b[0m \u001b[39mif\u001b[39;00m plot \u001b[39mis\u001b[39;00m \u001b[39mTrue\u001b[39;00m:\n\u001b[0;32m--> 458\u001b[0m     fig \u001b[39m=\u001b[39m p21c_tools\u001b[39m.\u001b[39mplot_func(m_uv_sim, \u001b[39m10\u001b[39;49m\u001b[39m*\u001b[39;49m\u001b[39m*\u001b[39;49mlog10_l_uv_sim, ylog\u001b[39m=\u001b[39m\u001b[39mTrue\u001b[39;00m, xlim\u001b[39m=\u001b[39m[\u001b[39m-\u001b[39m\u001b[39m14\u001b[39m, \u001b[39m-\u001b[39m\u001b[39m25\u001b[39m], ylim \u001b[39m=\u001b[39m[\u001b[39m1e-12\u001b[39m, \u001b[39m1\u001b[39m], xlabel\u001b[39m=\u001b[39m\u001b[39mr\u001b[39m\u001b[39m'\u001b[39m\u001b[39m$M_\u001b[39m\u001b[39m{\u001b[39m\u001b[39m\\\u001b[39m\u001b[39mrm UV}$\u001b[39m\u001b[39m'\u001b[39m, ylabel\u001b[39m=\u001b[39m\u001b[39mr\u001b[39m\u001b[39m'\u001b[39m\u001b[39m$\u001b[39m\u001b[39m\\\u001b[39m\u001b[39mphi_\u001b[39m\u001b[39m{\u001b[39m\u001b[39m\\\u001b[39m\u001b[39mrm UV}$\u001b[39m\u001b[39m'\u001b[39m)\n\u001b[1;32m    459\u001b[0m     \u001b[39mfor\u001b[39;00m iz, z \u001b[39min\u001b[39;00m \u001b[39menumerate\u001b[39m(z_uv) :\n\u001b[1;32m    460\u001b[0m             fig\u001b[39m.\u001b[39mgca()\u001b[39m.\u001b[39merrorbar(m_uv[iz], l_uv[iz], yerr\u001b[39m=\u001b[39msigma_l_uv[iz], linestyle\u001b[39m=\u001b[39m\u001b[39m'\u001b[39m\u001b[39m'\u001b[39m, capsize\u001b[39m=\u001b[39m\u001b[39m2\u001b[39m, elinewidth\u001b[39m=\u001b[39m\u001b[39m0.5\u001b[39m, label\u001b[39m=\u001b[39m\u001b[39mr\u001b[39m\u001b[39m'\u001b[39m\u001b[39m$\u001b[39m\u001b[39m{}\u001b[39;00m\u001b[39m$\u001b[39m\u001b[39m'\u001b[39m\u001b[39m.\u001b[39mformat(z))\n",
      "\u001b[0;31mTypeError\u001b[0m: unsupported operand type(s) for ** or pow(): 'int' and 'NoneType'"
     ]
    }
   ],
   "source": [
    "fiducial.plot_xH_box()\n",
    "fiducial.plot_global_signal()\n",
    "\n",
    "chi2 = fiducial.chi2_UV_luminosity_functions(plot = True)\n",
    "\n",
    "print('The optical depth to reionization is:', fiducial.tau_ion)\n",
    "print('The reduced chi^2 from UV luminosity data is:', chi2)"
   ]
  },
  {
   "attachments": {},
   "cell_type": "markdown",
   "metadata": {},
   "source": [
    "## IV. Evaluate experimental noise\n",
    "\n",
    "The experimental noise is derived using **21cmSense**. To that end one simply has to fix the 'observation' attribute of the fiducial object. The only valid input for now is 'HERA' but other can be added straightforwardly."
   ]
  },
  {
   "cell_type": "code",
   "execution_count": 6,
   "metadata": {},
   "outputs": [],
   "source": [
    "%%capture \n",
    "## Remove the long 21cmSense output\n",
    "\n",
    "fiducial.observation = 'HERA'\n",
    "fiducial.plot_power_spectrum()"
   ]
  },
  {
   "attachments": {},
   "cell_type": "markdown",
   "metadata": {},
   "source": [
    "## V. Define the Parameter objects\n",
    "\n",
    "(This part is the longest and can take minutes or hours depending on the box resolution). Here all power spectra and associated derivatives are pre-computed and stored as atrribute of the **Parameter** object. With the load and save options of the **Parameter** class, if this part of code has been executed once, then all the objects can be reloaded in an instant (since every pre-computed quantity is stored in .npz and .pkl files)."
   ]
  },
  {
   "cell_type": "code",
   "execution_count": 8,
   "metadata": {},
   "outputs": [
    {
     "name": "stdout",
     "output_type": "stream",
     "text": [
      "Treating parameter F_STAR10\n"
     ]
    },
    {
     "name": "stderr",
     "output_type": "stream",
     "text": [
      "2023-03-20 14:49:09,509 | WARNING | inputs.py::__init__() | USE_MINI_HALOS needs USE_RELATIVE_VELOCITIES to get the right evolution!\n"
     ]
    },
    {
     "name": "stdout",
     "output_type": "stream",
     "text": [
      "Treating parameter F_STAR7_MINI\n",
      "No existing data found for Lightcone_rs1993_F_STAR7_MINI_-2.0600e+00.h5\n"
     ]
    },
    {
     "name": "stderr",
     "output_type": "stream",
     "text": [
      "2023-03-20 14:49:29,058 | WARNING | inputs.py::__init__() | USE_MINI_HALOS needs USE_RELATIVE_VELOCITIES to get the right evolution!\n"
     ]
    },
    {
     "name": "stdout",
     "output_type": "stream",
     "text": [
      "No existing data found for Lightcone_rs1993_F_STAR7_MINI_-1.9400e+00.h5\n"
     ]
    },
    {
     "name": "stderr",
     "output_type": "stream",
     "text": [
      "2023-03-20 14:49:51,819 | WARNING | inputs.py::__init__() | USE_MINI_HALOS needs USE_RELATIVE_VELOCITIES to get the right evolution!\n"
     ]
    },
    {
     "name": "stdout",
     "output_type": "stream",
     "text": [
      "Treating parameter ALPHA_STAR\n",
      "No existing data found for Lightcone_rs1993_ALPHA_STAR_4.8500e-01.h5\n"
     ]
    },
    {
     "name": "stderr",
     "output_type": "stream",
     "text": [
      "2023-03-20 14:50:11,185 | WARNING | inputs.py::__init__() | USE_MINI_HALOS needs USE_RELATIVE_VELOCITIES to get the right evolution!\n"
     ]
    },
    {
     "name": "stdout",
     "output_type": "stream",
     "text": [
      "No existing data found for Lightcone_rs1993_ALPHA_STAR_5.1500e-01.h5\n"
     ]
    },
    {
     "name": "stderr",
     "output_type": "stream",
     "text": [
      "2023-03-20 14:50:34,595 | WARNING | inputs.py::__init__() | USE_MINI_HALOS needs USE_RELATIVE_VELOCITIES to get the right evolution!\n"
     ]
    },
    {
     "name": "stdout",
     "output_type": "stream",
     "text": [
      "Treating parameter ALPHA_STAR_MINI\n",
      "No existing data found for Lightcone_rs1993_ALPHA_STAR_MINI_4.8500e-01.h5\n"
     ]
    },
    {
     "name": "stderr",
     "output_type": "stream",
     "text": [
      "2023-03-20 14:50:53,971 | WARNING | inputs.py::__init__() | USE_MINI_HALOS needs USE_RELATIVE_VELOCITIES to get the right evolution!\n"
     ]
    },
    {
     "name": "stdout",
     "output_type": "stream",
     "text": [
      "No existing data found for Lightcone_rs1993_ALPHA_STAR_MINI_5.1500e-01.h5\n"
     ]
    },
    {
     "name": "stderr",
     "output_type": "stream",
     "text": [
      "2023-03-20 14:51:16,376 | WARNING | inputs.py::__init__() | USE_MINI_HALOS needs USE_RELATIVE_VELOCITIES to get the right evolution!\n"
     ]
    },
    {
     "name": "stdout",
     "output_type": "stream",
     "text": [
      "Treating parameter t_STAR\n",
      "No existing data found for Lightcone_rs1993_t_STAR_4.8500e-01.h5\n"
     ]
    },
    {
     "name": "stderr",
     "output_type": "stream",
     "text": [
      "2023-03-20 14:51:35,695 | WARNING | inputs.py::__init__() | USE_MINI_HALOS needs USE_RELATIVE_VELOCITIES to get the right evolution!\n"
     ]
    },
    {
     "name": "stdout",
     "output_type": "stream",
     "text": [
      "No existing data found for Lightcone_rs1993_t_STAR_5.1500e-01.h5\n"
     ]
    },
    {
     "name": "stderr",
     "output_type": "stream",
     "text": [
      "2023-03-20 14:51:57,716 | WARNING | inputs.py::__init__() | USE_MINI_HALOS needs USE_RELATIVE_VELOCITIES to get the right evolution!\n"
     ]
    },
    {
     "name": "stdout",
     "output_type": "stream",
     "text": [
      "Treating parameter F_ESC10\n",
      "No existing data found for Lightcone_rs1993_F_ESC10_-1.0300e+00.h5\n"
     ]
    },
    {
     "name": "stderr",
     "output_type": "stream",
     "text": [
      "2023-03-20 14:52:17,133 | WARNING | inputs.py::__init__() | USE_MINI_HALOS needs USE_RELATIVE_VELOCITIES to get the right evolution!\n"
     ]
    },
    {
     "name": "stdout",
     "output_type": "stream",
     "text": [
      "No existing data found for Lightcone_rs1993_F_ESC10_-9.7000e-01.h5\n"
     ]
    },
    {
     "name": "stderr",
     "output_type": "stream",
     "text": [
      " py21cmcast/tools.py:434: More than 20 figures have been opened. Figures created through the pyplot interface (`matplotlib.pyplot.figure`) are retained until explicitly closed and may consume too much memory. (To control this warning, see the rcParam `figure.max_open_warning`). (RuntimeWarning)\n",
      "2023-03-20 14:52:39,644 | WARNING | inputs.py::__init__() | USE_MINI_HALOS needs USE_RELATIVE_VELOCITIES to get the right evolution!\n"
     ]
    },
    {
     "name": "stdout",
     "output_type": "stream",
     "text": [
      "Treating parameter F_ESC7_MINI\n",
      "No existing data found for Lightcone_rs1993_F_ESC7_MINI_-2.0600e+00.h5\n"
     ]
    },
    {
     "name": "stderr",
     "output_type": "stream",
     "text": [
      "2023-03-20 14:52:58,894 | WARNING | inputs.py::__init__() | USE_MINI_HALOS needs USE_RELATIVE_VELOCITIES to get the right evolution!\n"
     ]
    },
    {
     "name": "stdout",
     "output_type": "stream",
     "text": [
      "No existing data found for Lightcone_rs1993_F_ESC7_MINI_-1.9400e+00.h5\n"
     ]
    },
    {
     "name": "stderr",
     "output_type": "stream",
     "text": [
      "2023-03-20 14:53:20,796 | WARNING | inputs.py::__init__() | USE_MINI_HALOS needs USE_RELATIVE_VELOCITIES to get the right evolution!\n"
     ]
    },
    {
     "name": "stdout",
     "output_type": "stream",
     "text": [
      "Treating parameter ALPHA_ESC\n",
      "No existing data found for Lightcone_rs1993_ALPHA_ESC_-5.1500e-01.h5\n"
     ]
    },
    {
     "name": "stderr",
     "output_type": "stream",
     "text": [
      "2023-03-20 14:53:40,059 | WARNING | inputs.py::__init__() | USE_MINI_HALOS needs USE_RELATIVE_VELOCITIES to get the right evolution!\n"
     ]
    },
    {
     "name": "stdout",
     "output_type": "stream",
     "text": [
      "No existing data found for Lightcone_rs1993_ALPHA_ESC_-4.8500e-01.h5\n"
     ]
    },
    {
     "name": "stderr",
     "output_type": "stream",
     "text": [
      "2023-03-20 14:54:02,686 | WARNING | inputs.py::__init__() | USE_MINI_HALOS needs USE_RELATIVE_VELOCITIES to get the right evolution!\n"
     ]
    },
    {
     "name": "stdout",
     "output_type": "stream",
     "text": [
      "Treating parameter L_X\n",
      "No existing data found for Lightcone_rs1993_L_X_3.9960e+01.h5\n"
     ]
    },
    {
     "name": "stderr",
     "output_type": "stream",
     "text": [
      "2023-03-20 14:54:21,987 | WARNING | inputs.py::__init__() | USE_MINI_HALOS needs USE_RELATIVE_VELOCITIES to get the right evolution!\n"
     ]
    },
    {
     "name": "stdout",
     "output_type": "stream",
     "text": [
      "No existing data found for Lightcone_rs1993_L_X_4.0040e+01.h5\n"
     ]
    },
    {
     "name": "stderr",
     "output_type": "stream",
     "text": [
      "2023-03-20 14:54:43,940 | WARNING | inputs.py::__init__() | USE_MINI_HALOS needs USE_RELATIVE_VELOCITIES to get the right evolution!\n"
     ]
    },
    {
     "name": "stdout",
     "output_type": "stream",
     "text": [
      "Treating parameter L_X_MINI\n",
      "No existing data found for Lightcone_rs1993_L_X_MINI_3.9960e+01.h5\n"
     ]
    },
    {
     "name": "stderr",
     "output_type": "stream",
     "text": [
      "2023-03-20 14:55:03,289 | WARNING | inputs.py::__init__() | USE_MINI_HALOS needs USE_RELATIVE_VELOCITIES to get the right evolution!\n"
     ]
    },
    {
     "name": "stdout",
     "output_type": "stream",
     "text": [
      "No existing data found for Lightcone_rs1993_L_X_MINI_4.0040e+01.h5\n"
     ]
    },
    {
     "name": "stderr",
     "output_type": "stream",
     "text": [
      "2023-03-20 14:55:26,169 | WARNING | inputs.py::__init__() | USE_MINI_HALOS needs USE_RELATIVE_VELOCITIES to get the right evolution!\n"
     ]
    },
    {
     "name": "stdout",
     "output_type": "stream",
     "text": [
      "Treating parameter NU_X_THRESH\n",
      "No existing data found for Lightcone_rs1993_NU_X_THRESH_4.8500e+02.h5\n"
     ]
    },
    {
     "name": "stderr",
     "output_type": "stream",
     "text": [
      "2023-03-20 14:55:45,842 | WARNING | inputs.py::__init__() | USE_MINI_HALOS needs USE_RELATIVE_VELOCITIES to get the right evolution!\n"
     ]
    },
    {
     "name": "stdout",
     "output_type": "stream",
     "text": [
      "No existing data found for Lightcone_rs1993_NU_X_THRESH_5.1500e+02.h5\n"
     ]
    }
   ],
   "source": [
    "#parameter_names = ['F_STAR10', 'F_STAR7_MINI', 'ALPHA_STAR', 'ALPHA_STAR_MINI',  't_STAR', 'F_ESC10', 'F_ESC7_MINI', 'ALPHA_ESC', 'L_X', 'L_X_MINI', \n",
    "#                   'DM_LOG10_LIFETIME', 'DM_FHEAT_APPROX_PARAM_LOG10_F0', 'DM_FHEAT_APPROX_PARAM_A', 'DM_FHEAT_APPROX_PARAM_B', \n",
    "#                   'LOG10_XION_at_Z_HEAT_MAX', 'LOG10_TK_at_Z_HEAT_MAX']\n",
    "#parameter_names = ['F_STAR10', 'ALPHA_STAR', 't_STAR', 'F_ESC10', 'ALPHA_ESC', 'L_X', \n",
    "#                   'DM_LOG10_LIFETIME', 'DM_FHEAT_APPROX_PARAM_LOG10_F0', 'DM_FHEAT_APPROX_PARAM_A', 'DM_FHEAT_APPROX_PARAM_B', \n",
    "#                   'LOG10_XION_at_Z_HEAT_MAX', 'LOG10_TK_at_Z_HEAT_MAX']\n",
    "\n",
    "\n",
    "\n",
    "#parameter_names = ['F_STAR10', 'ALPHA_STAR', 'F_ESC10', 'ALPHA_ESC', 'M_TURN', 't_STAR', 'L_X', 'NU_X_THRESH', 'DM_DECAY_RATE']\n",
    "#parameter_names = ['DM_DECAY_RATE']\n",
    "\n",
    "## Classical sets of parameters\n",
    "#parameter_names = ['F_STAR10', 'ALPHA_STAR', 'F_ESC10', 'ALPHA_ESC',  'M_TURN', 't_STAR', 'L_X', 'NU_X_THRESH']\n",
    "parameter_names = ['F_STAR10', 'F_STAR7_MINI', 'ALPHA_STAR', 'ALPHA_STAR_MINI',  't_STAR', \n",
    "                   'F_ESC10', 'F_ESC7_MINI', 'ALPHA_ESC', 'L_X', 'L_X_MINI', 'NU_X_THRESH']\n",
    "\n",
    "params = [None] * len(parameter_names)\n",
    "\n",
    "for iname, name in enumerate(parameter_names) :  \n",
    "    params[iname] = p21c.Parameter(fiducial=fiducial, name=name, verbose = False, plot = True, load=True)\n",
    "    params[iname].plot_power_spectra(color=['b', 'k', 'r'])"
   ]
  },
  {
   "cell_type": "code",
   "execution_count": 8,
   "metadata": {},
   "outputs": [
    {
     "name": "stdout",
     "output_type": "stream",
     "text": [
      "Treating parameter DM_DECAY_RATE\n",
      "Weighted derivative computed from the one_sided derivative\n",
      "Treating parameter DM_DECAY_RATE\n",
      "Weighted derivative computed from the one_sided derivative\n",
      "Treating parameter DM_DECAY_RATE\n",
      "Weighted derivative computed from the one_sided derivative\n"
     ]
    },
    {
     "name": "stderr",
     "output_type": "stream",
     "text": [
      " /home/users/g/f/gfacchin/exo21cmFAST_release/21cmCAST/src/py21cmcast/core.py:152: UserWarning:z-bins in input are different than the one used to precompute the tables\n",
      "2023-03-20 10:32:16,856 | WARNING | inputs.py::__init__() | USE_MINI_HALOS needs USE_RELATIVE_VELOCITIES to get the right evolution!\n"
     ]
    },
    {
     "name": "stdout",
     "output_type": "stream",
     "text": [
      "Treating parameter DM_DECAY_RATE\n",
      "recomputing the tables with the new bins\n",
      "Weighted derivative computed from the one_sided derivative\n"
     ]
    },
    {
     "name": "stderr",
     "output_type": "stream",
     "text": [
      " /home/users/g/f/gfacchin/exo21cmFAST_release/21cmCAST/src/py21cmcast/core.py:152: UserWarning:z-bins in input are different than the one used to precompute the tables\n",
      "2023-03-20 10:32:38,941 | WARNING | inputs.py::__init__() | USE_MINI_HALOS needs USE_RELATIVE_VELOCITIES to get the right evolution!\n"
     ]
    },
    {
     "name": "stdout",
     "output_type": "stream",
     "text": [
      "Treating parameter DM_DECAY_RATE\n",
      "recomputing the tables with the new bins\n",
      "Weighted derivative computed from the one_sided derivative\n"
     ]
    },
    {
     "name": "stderr",
     "output_type": "stream",
     "text": [
      " /home/users/g/f/gfacchin/exo21cmFAST_release/21cmCAST/src/py21cmcast/core.py:152: UserWarning:z-bins in input are different than the one used to precompute the tables\n",
      "2023-03-20 10:33:01,046 | WARNING | inputs.py::__init__() | USE_MINI_HALOS needs USE_RELATIVE_VELOCITIES to get the right evolution!\n"
     ]
    },
    {
     "name": "stdout",
     "output_type": "stream",
     "text": [
      "Treating parameter DM_DECAY_RATE\n",
      "recomputing the tables with the new bins\n",
      "Weighted derivative computed from the one_sided derivative\n"
     ]
    },
    {
     "name": "stderr",
     "output_type": "stream",
     "text": [
      " /home/users/g/f/gfacchin/exo21cmFAST_release/21cmCAST/src/py21cmcast/core.py:152: UserWarning:z-bins in input are different than the one used to precompute the tables\n",
      "2023-03-20 10:33:24,686 | WARNING | inputs.py::__init__() | USE_MINI_HALOS needs USE_RELATIVE_VELOCITIES to get the right evolution!\n"
     ]
    },
    {
     "name": "stdout",
     "output_type": "stream",
     "text": [
      "Treating parameter DM_DECAY_RATE\n",
      "recomputing the tables with the new bins\n",
      "Weighted derivative computed from the one_sided derivative\n"
     ]
    },
    {
     "name": "stderr",
     "output_type": "stream",
     "text": [
      " /home/users/g/f/gfacchin/exo21cmFAST_release/21cmCAST/src/py21cmcast/core.py:152: UserWarning:z-bins in input are different than the one used to precompute the tables\n",
      "2023-03-20 10:33:46,810 | WARNING | inputs.py::__init__() | USE_MINI_HALOS needs USE_RELATIVE_VELOCITIES to get the right evolution!\n"
     ]
    },
    {
     "name": "stdout",
     "output_type": "stream",
     "text": [
      "Treating parameter DM_DECAY_RATE\n",
      "recomputing the tables with the new bins\n",
      "Weighted derivative computed from the one_sided derivative\n"
     ]
    },
    {
     "name": "stderr",
     "output_type": "stream",
     "text": [
      " /home/users/g/f/gfacchin/exo21cmFAST_release/21cmCAST/src/py21cmcast/core.py:152: UserWarning:z-bins in input are different than the one used to precompute the tables\n",
      "2023-03-20 10:34:08,898 | WARNING | inputs.py::__init__() | USE_MINI_HALOS needs USE_RELATIVE_VELOCITIES to get the right evolution!\n"
     ]
    },
    {
     "name": "stdout",
     "output_type": "stream",
     "text": [
      "Treating parameter DM_DECAY_RATE\n",
      "recomputing the tables with the new bins\n",
      "Weighted derivative computed from the one_sided derivative\n"
     ]
    },
    {
     "name": "stderr",
     "output_type": "stream",
     "text": [
      " /home/users/g/f/gfacchin/exo21cmFAST_release/21cmCAST/src/py21cmcast/core.py:152: UserWarning:z-bins in input are different than the one used to precompute the tables\n",
      "2023-03-20 10:34:31,064 | WARNING | inputs.py::__init__() | USE_MINI_HALOS needs USE_RELATIVE_VELOCITIES to get the right evolution!\n"
     ]
    },
    {
     "name": "stdout",
     "output_type": "stream",
     "text": [
      "Treating parameter DM_DECAY_RATE\n",
      "recomputing the tables with the new bins\n",
      "Weighted derivative computed from the one_sided derivative\n"
     ]
    },
    {
     "name": "stderr",
     "output_type": "stream",
     "text": [
      " /home/users/g/f/gfacchin/exo21cmFAST_release/21cmCAST/src/py21cmcast/core.py:152: UserWarning:z-bins in input are different than the one used to precompute the tables\n",
      "2023-03-20 10:34:53,165 | WARNING | inputs.py::__init__() | USE_MINI_HALOS needs USE_RELATIVE_VELOCITIES to get the right evolution!\n"
     ]
    },
    {
     "name": "stdout",
     "output_type": "stream",
     "text": [
      "Treating parameter DM_DECAY_RATE\n",
      "recomputing the tables with the new bins\n",
      "Weighted derivative computed from the one_sided derivative\n"
     ]
    },
    {
     "name": "stderr",
     "output_type": "stream",
     "text": [
      " /home/users/g/f/gfacchin/exo21cmFAST_release/21cmCAST/src/py21cmcast/core.py:152: UserWarning:z-bins in input are different than the one used to precompute the tables\n",
      "2023-03-20 10:35:17,218 | WARNING | inputs.py::__init__() | USE_MINI_HALOS needs USE_RELATIVE_VELOCITIES to get the right evolution!\n"
     ]
    },
    {
     "name": "stdout",
     "output_type": "stream",
     "text": [
      "Treating parameter DM_DECAY_RATE\n",
      "recomputing the tables with the new bins\n",
      "Weighted derivative computed from the one_sided derivative\n"
     ]
    }
   ],
   "source": [
    "extra_names  = ['m6.5', 'm7.0', 'm7.5', 'm8.0', 'm8.5', 'm9.0', 'm9.5', 'm10.0', 'm10.5', 'm11.0', 'm11.5', 'm12.0']\n",
    "extra_params = [None] * len(extra_names)\n",
    "\n",
    "for iname, extra_name in enumerate(extra_names) :  \n",
    "    extra_params[iname] = p21c.Parameter(fiducial=fiducial, name='DM_DECAY_RATE', verbose = False, plot=True, load=True, extra_str = extra_name)\n",
    "    extra_params[iname].plot_power_spectra(color=['b', 'k', 'r'])"
   ]
  },
  {
   "attachments": {},
   "cell_type": "markdown",
   "metadata": {},
   "source": [
    "## VI. Evaluate the Fisher matrix and its inverse\n",
    "\n",
    "From the list of parameters objects defined above one can directly compute the Fisher matrix with the **evaluate\\_fisher\\_matrix()** function. One can add a modeling noise to the power spectrum with the attribute **frac\\_noise** of the fiducial (as a percentage of the fiducial value). The triangle plot figure can be produced with the function **make\\_triangle\\_plot()** and plotted. Finally, the matrices can be displayed nicely with the **display\\_matrix()** function."
   ]
  },
  {
   "cell_type": "code",
   "execution_count": 9,
   "metadata": {},
   "outputs": [
    {
     "name": "stdout",
     "output_type": "stream",
     "text": [
      "Warning: frac noise has been changed, all related quantities should be recomputed\n",
      "Weighted derivative computed from the one_sided derivative\n",
      "Weighted derivative computed from the one_sided derivative\n",
      "Weighted derivative computed from the one_sided derivative\n",
      "Weighted derivative computed from the one_sided derivative\n",
      "Weighted derivative computed from the one_sided derivative\n",
      "Weighted derivative computed from the one_sided derivative\n",
      "Weighted derivative computed from the one_sided derivative\n",
      "Weighted derivative computed from the one_sided derivative\n",
      "Weighted derivative computed from the one_sided derivative\n",
      "Weighted derivative computed from the one_sided derivative\n",
      "Weighted derivative computed from the one_sided derivative\n",
      "Weighted derivative computed from the one_sided derivative\n",
      "----------\n",
      "[5.03786299e+30 5.03778105e+30 5.03785951e+30 5.03798467e+30\n",
      " 5.49917227e+30 5.03788091e+30 5.03784920e+30 5.03784734e+30\n",
      " 5.03794011e+30 5.03771477e+30 5.03770803e+30 5.03768734e+30]\n"
     ]
    }
   ],
   "source": [
    "fiducial.frac_noise = 0.2\n",
    "\n",
    "sigma_tau = np.zeros(len(extra_names))\n",
    "\n",
    "for iname, extra_name in enumerate(extra_names) : \n",
    "    fisher_matrix     = p21c.evaluate_fisher_matrix([*params, extra_params[iname]])\n",
    "    covariance_matrix = np.linalg.inv(fisher_matrix['matrix'])\n",
    "    fig = p21c.make_triangle_plot(covariance_matrix, fisher_matrix['name'], fiducial.astro_params)\n",
    "    fig.savefig(fiducial.dir_path + '/triangle_plot_' + extra_name + '.pdf')\n",
    "    sigma_tau[iname] = 1/(2.*np.sqrt(covariance_matrix[-1][-1]))\n",
    "\n",
    "print('----------')\n",
    "print(sigma_tau)"
   ]
  },
  {
   "cell_type": "code",
   "execution_count": null,
   "metadata": {},
   "outputs": [],
   "source": []
  }
 ],
 "metadata": {
  "kernelspec": {
   "display_name": "Python 3.9.6 ('exo21cmFAST_release': venv)",
   "language": "python",
   "name": "python3"
  },
  "language_info": {
   "codemirror_mode": {
    "name": "ipython",
    "version": 3
   },
   "file_extension": ".py",
   "mimetype": "text/x-python",
   "name": "python",
   "nbconvert_exporter": "python",
   "pygments_lexer": "ipython3",
   "version": "3.9.6"
  },
  "orig_nbformat": 4,
  "vscode": {
   "interpreter": {
    "hash": "b978f4ecbf43ad133bda540fcbea492cd113875f61480fb8ce8c71a82633a1e6"
   }
  }
 },
 "nbformat": 4,
 "nbformat_minor": 2
}
