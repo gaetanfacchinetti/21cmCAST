{
 "cells": [
  {
   "cell_type": "code",
   "execution_count": 2,
   "metadata": {},
   "outputs": [
    {
     "name": "stderr",
     "output_type": "stream",
     "text": [
      "/home/users/g/f/gfacchin/exo21cmFAST_release/exo21cmFAST/src/py21cmfast/_cfg.py:57: UserWarning: Your configuration file is out of date. Updating...\n",
      "  warnings.warn(\n",
      "/home/users/g/f/gfacchin/exo21cmFAST_release/exo21cmFAST/src/py21cmfast/_cfg.py:41: UserWarning: Your configuration file is out of date. Updating...\n",
      "  warnings.warn(\"Your configuration file is out of date. Updating...\")\n"
     ]
    }
   ],
   "source": [
    "import py21cmcast as p21c\n",
    "import numpy as np \n",
    "\n",
    "from astropy import units\n",
    "\n",
    "import warnings\n",
    "warnings.filterwarnings(\"ignore\", category=np.VisibleDeprecationWarning)\n",
    "\n",
    "%load_ext autoreload\n",
    "%autoreload 2"
   ]
  },
  {
   "attachments": {},
   "cell_type": "markdown",
   "metadata": {},
   "source": [
    "## I. Create the configuration files for varying parameters\n",
    "\n",
    "See the examples of master configuration files in the config folder. Running **init\\_fisher\\_from\\_fiducial** will create a folder (named after the run name set in the master configuration file) and sub configuration files inside (which correspond to the variation of each parameter). Once they are created each can by run with the script [**run\\_fisher.py**](https://github.com/gaetanfacchinetti/21cmCAST/blob/main/scripts/exec/run_fisher.py). Note that the script takes at least one argument (the name of the sub configuration files to run) and three optional: the number of threads, the number of the first seed, and the number of times the same script should be run with increasing seeds. The latter is only usefull to run several fiducial cases in order to determine what the 'average Universe' looks like. In practice, for a Fisher forecast one should fix the seed to a single value for all the runs. "
   ]
  },
  {
   "cell_type": "code",
   "execution_count": 3,
   "metadata": {},
   "outputs": [
    {
     "name": "stdout",
     "output_type": "stream",
     "text": [
      "Parameter F_STAR10 varied by 1.0 percent of the fiducial\n",
      "Parameter ALPHA_STAR varied by 3.0 percent of the fiducial\n",
      "Parameter t_STAR varied by 5.0 percent of the fiducial\n",
      "Parameter F_ESC10 varied by 1.0 percent of the fiducial\n",
      "Parameter ALPHA_ESC varied by 3.0 percent of the fiducial\n",
      "Parameter L_X varied by 0.3 percent of the fiducial\n",
      "Parameter M_TURN varied by 3.0 percent of the fiducial\n",
      "Parameter NU_X_THRESH varied by 3.0 percent of the fiducial\n"
     ]
    }
   ],
   "source": [
    "configuration_file = \"../config/constraint_bkr.config\"\n",
    "p21c.init_runs_from_fiducial(configuration_file, clean_existing_dir=False)"
   ]
  },
  {
   "attachments": {},
   "cell_type": "markdown",
   "metadata": {},
   "source": [
    "## II. Define the grid of modes and redshifts\n",
    "\n",
    "Let us call the function **define\\_grid\\_modes\\_redshits()**. It returns the bin edges for a fixed grid of modes and redshifts.\n",
    "\n",
    "- The redshift bins are computed from the frequency according to the formula\n",
    "\\begin{equation}\n",
    "z_n \\equiv \\frac{f_{21}}{\\frac{f_{21}}{1+z_0} - n B} -1\n",
    "\\end{equation}\n",
    "where $B$ is the bandwidth and $f_{21}$ is the 21cm frequency.\n",
    "\n",
    "- The mode bins are computed from the bandwidth according to the formula\n",
    "\\begin{equation}\n",
    "k_n \\equiv {\\rm max} \\left\\{k_{\\rm min},  \\delta k \\right\\} + n \\delta k \\quad {\\rm with} \\quad \\delta k \\equiv 2\\pi \\frac{f_{21}}{B} \\frac{H(z_0)}{c(1+z_0)^2}\n",
    "\\end{equation}\n",
    "This definition corresponds to the bins set by **21cmSense**. Note that the choice of redshift $z_0$ fixes the step of the mode bins."
   ]
  },
  {
   "cell_type": "code",
   "execution_count": 3,
   "metadata": {},
   "outputs": [
    {
     "name": "stdout",
     "output_type": "stream",
     "text": [
      "The redshift bin edges are: [ 6.          6.28730456  6.5992025   6.93899281  7.31059216  7.71868653\n",
      "  8.16892985  8.66820756  9.22499121  9.84982306 10.55599    11.36047883\n",
      " 12.28536057 13.35984643 14.62342929 16.13084378 17.96020444 20.22698157]\n",
      "The mode bin edges are: [0.1        0.15329426 0.20658851 0.25988277 0.31317703 0.36647129\n",
      " 0.41976554 0.4730598  0.52635406 0.57964831 0.63294257 0.68623683\n",
      " 0.73953109 0.79282534 0.8461196  0.89941386 0.95270811] 1 / Mpc\n"
     ]
    }
   ],
   "source": [
    "z_bins, k_bins = p21c.define_grid_modes_redshifts(6., 8 * units.MHz, z_max = 22, k_min = 0.1 / units.Mpc, k_max = 1 / units.Mpc)\n",
    "print(\"The redshift bin edges are:\", z_bins)\n",
    "print(\"The mode bin edges are:\", k_bins)"
   ]
  },
  {
   "attachments": {},
   "cell_type": "markdown",
   "metadata": {},
   "source": [
    "## III. Define the fiducial model and get its power spectrum\n",
    "\n",
    "A **Fiducial** object can be defined by specifying the path where the lightcones are saved (depends on what was set on the config file) as well as  the redshifts and modes bin edges. Note that we must set by hand whether the mode bins are linearly of logarithmically spaced with the option **logk**  that is by default **False** as the output mode bin deges returned by **define\\_grid\\_modes\\_redshits()** are linearly spaced. Further options can be specified, such as an **observation**  and a fraction of modeling error **frac\\_mod** (see below)."
   ]
  },
  {
   "cell_type": "code",
   "execution_count": 4,
   "metadata": {},
   "outputs": [],
   "source": [
    "fiducial = p21c.Fiducial(\"../runs/CONSTRAINT_BKR_GAMMA\", z_bins, k_bins, False, load = True)"
   ]
  },
  {
   "attachments": {},
   "cell_type": "markdown",
   "metadata": {},
   "source": [
    "Once the fiducial model is defined, we can check some of its properties:\n",
    "- by plotting the neutral hydrogen fraction 'xH_box' (provided they have been asked as output of the lightcone) and computing the optical depth to reionization\n",
    "- by computing the reduced $\\chi^2$ value from the UV luminosity data"
   ]
  },
  {
   "cell_type": "code",
   "execution_count": 4,
   "metadata": {},
   "outputs": [
    {
     "name": "stdout",
     "output_type": "stream",
     "text": [
      "The optical depth to reionization is: 0.058239009231328964\n",
      "The reduced chi^2 from UV luminosity data is: 4.250039090267591\n"
     ]
    }
   ],
   "source": [
    "fiducial.plot_xH_box()\n",
    "fiducial.plot_global_signal()\n",
    "\n",
    "chi2 = fiducial.chi2_UV_luminosity_functions(plot = True)\n",
    "\n",
    "print('The optical depth to reionization is:', fiducial.tau_ion)\n",
    "print('The reduced chi^2 from UV luminosity data is:', chi2)"
   ]
  },
  {
   "attachments": {},
   "cell_type": "markdown",
   "metadata": {},
   "source": [
    "## IV. Evaluate experimental noise\n",
    "\n",
    "The experimental noise is derived using **21cmSense**. To that end one simply has to fix the 'observation' attribute of the fiducial object. The only valid input for now is 'HERA' but other can be added straightforwardly."
   ]
  },
  {
   "cell_type": "code",
   "execution_count": 5,
   "metadata": {},
   "outputs": [],
   "source": [
    "%%capture \n",
    "## Remove the long 21cmSense output\n",
    "\n",
    "fiducial.observation = 'HERA'\n",
    "fiducial.plot_power_spectrum()"
   ]
  },
  {
   "attachments": {},
   "cell_type": "markdown",
   "metadata": {},
   "source": [
    "## V. Define the Parameter objects\n",
    "\n",
    "(This part is the longest and can take minutes or hours depending on the box resolution). Here all power spectra and associated derivatives are pre-computed and stored as atrribute of the **Parameter** object. With the load and save options of the **Parameter** class, if this part of code has been executed once, then all the objects can be reloaded in an instant (since every pre-computed quantity is stored in .npz and .pkl files)."
   ]
  },
  {
   "cell_type": "code",
   "execution_count": 6,
   "metadata": {},
   "outputs": [
    {
     "name": "stdout",
     "output_type": "stream",
     "text": [
      "Treating parameter F_STAR10\n",
      "Treating parameter ALPHA_STAR\n",
      "Treating parameter F_ESC10\n",
      "Treating parameter ALPHA_ESC\n",
      "Treating parameter M_TURN\n",
      "Treating parameter t_STAR\n",
      "Treating parameter L_X\n"
     ]
    },
    {
     "name": "stderr",
     "output_type": "stream",
     "text": [
      " py21cmcast/tools.py:433: More than 20 figures have been opened. Figures created through the pyplot interface (`matplotlib.pyplot.figure`) are retained until explicitly closed and may consume too much memory. (To control this warning, see the rcParam `figure.max_open_warning`). (RuntimeWarning)\n"
     ]
    },
    {
     "name": "stdout",
     "output_type": "stream",
     "text": [
      "Treating parameter NU_X_THRESH\n"
     ]
    }
   ],
   "source": [
    "## Classical sets of parameters\n",
    "parameter_names = ['F_STAR10', 'ALPHA_STAR', 'F_ESC10', 'ALPHA_ESC',  'M_TURN', 't_STAR', 'L_X', 'NU_X_THRESH']\n",
    "#parameter_names = ['F_STAR10', 'F_STAR7_MINI', 'ALPHA_STAR', 'ALPHA_STAR_MINI',  't_STAR', \n",
    "#                   'F_ESC10', 'F_ESC7_MINI', 'ALPHA_ESC', 'L_X', 'L_X_MINI', 'NU_X_THRESH']\n",
    "\n",
    "params = [None] * len(parameter_names)\n",
    "\n",
    "for iname, name in enumerate(parameter_names) :  \n",
    "    params[iname] = p21c.Parameter(fiducial=fiducial, name=name, verbose = False, plot = True, load=True)\n",
    "    params[iname].plot_power_spectra(color=['b', 'k', 'r'])"
   ]
  },
  {
   "cell_type": "code",
   "execution_count": 7,
   "metadata": {},
   "outputs": [
    {
     "name": "stdout",
     "output_type": "stream",
     "text": [
      "Treating parameter DM_DECAY_RATE\n",
      "Weighted derivative computed from the one_sided derivative\n",
      "Treating parameter DM_DECAY_RATE\n",
      "Weighted derivative computed from the one_sided derivative\n",
      "Treating parameter DM_DECAY_RATE\n",
      "Weighted derivative computed from the one_sided derivative\n",
      "Treating parameter DM_DECAY_RATE\n",
      "Weighted derivative computed from the one_sided derivative\n",
      "Treating parameter DM_DECAY_RATE\n",
      "Weighted derivative computed from the one_sided derivative\n",
      "Treating parameter DM_DECAY_RATE\n",
      "Weighted derivative computed from the one_sided derivative\n",
      "Treating parameter DM_DECAY_RATE\n",
      "Weighted derivative computed from the one_sided derivative\n",
      "Treating parameter DM_DECAY_RATE\n",
      "Weighted derivative computed from the one_sided derivative\n",
      "Treating parameter DM_DECAY_RATE\n",
      "Weighted derivative computed from the one_sided derivative\n",
      "Treating parameter DM_DECAY_RATE\n",
      "Weighted derivative computed from the one_sided derivative\n"
     ]
    }
   ],
   "source": [
    "#extra_names  = ['m6.5', 'm7.0', 'm7.5', 'm8.0', 'm8.5', 'm9.0', 'm9.5', 'm10.0', 'm10.5', 'm11.0', 'm11.5', 'm12.0']\n",
    "extra_names  = ['m2.0', 'm3.0', 'm4.0', 'm5.0', 'm6.0', 'm7.0', 'm8.0', 'm9.0', 'm10.0', 'm12.0']\n",
    "extra_params = [None] * len(extra_names)\n",
    "\n",
    "for iname, extra_name in enumerate(extra_names) :  \n",
    "    extra_params[iname] = p21c.Parameter(fiducial=fiducial, name='DM_DECAY_RATE', verbose = False, plot=True, load=True, extra_str = extra_name)\n",
    "    extra_params[iname].plot_power_spectra(color=['b', 'k', 'r'])"
   ]
  },
  {
   "attachments": {},
   "cell_type": "markdown",
   "metadata": {},
   "source": [
    "## VI. Evaluate the Fisher matrix and its inverse\n",
    "\n",
    "From the list of parameters objects defined above one can directly compute the Fisher matrix with the **evaluate\\_fisher\\_matrix()** function. One can add a modeling noise to the power spectrum with the attribute **frac\\_noise** of the fiducial (as a percentage of the fiducial value). The triangle plot figure can be produced with the function **make\\_triangle\\_plot()** and plotted. Finally, the matrices can be displayed nicely with the **display\\_matrix()** function."
   ]
  },
  {
   "cell_type": "code",
   "execution_count": 8,
   "metadata": {},
   "outputs": [
    {
     "name": "stdout",
     "output_type": "stream",
     "text": [
      "Warning: frac noise and modeling noise have been changed, all related quantities should be recomputed\n",
      "Weighted derivative computed from the one_sided derivative\n",
      "Weighted derivative computed from the one_sided derivative\n",
      "Weighted derivative computed from the one_sided derivative\n",
      "Weighted derivative computed from the one_sided derivative\n",
      "Weighted derivative computed from the one_sided derivative\n",
      "Weighted derivative computed from the one_sided derivative\n",
      "Weighted derivative computed from the one_sided derivative\n",
      "Weighted derivative computed from the one_sided derivative\n",
      "Weighted derivative computed from the one_sided derivative\n",
      "Weighted derivative computed from the one_sided derivative\n",
      "----------\n",
      "[4.71852152e+28 3.93555694e+28 3.54102564e+27 8.73869593e+26\n",
      " 9.49895767e+26 7.07021516e+26 7.02941029e+26 6.98008242e+26\n",
      " 8.06094808e+26 4.75809637e+26]\n"
     ]
    }
   ],
   "source": [
    "fiducial.frac_noise = 0.2\n",
    "\n",
    "sigma_tau = np.zeros(len(extra_names))\n",
    "\n",
    "for iname, extra_name in enumerate(extra_names) : \n",
    "    fisher_matrix     = p21c.evaluate_fisher_matrix([*params, extra_params[iname]])\n",
    "    covariance_matrix = np.linalg.inv(fisher_matrix['matrix'])\n",
    "    fig = p21c.make_triangle_plot(covariance_matrix, fisher_matrix['name'], fiducial.astro_params)\n",
    "    fig.savefig(fiducial.dir_path + '/triangle_plot_' + extra_name + '.pdf')\n",
    "    sigma_tau[iname] = 1/(2.*np.sqrt(covariance_matrix[-1][-1]))\n",
    "\n",
    "print('----------')\n",
    "print(sigma_tau)"
   ]
  },
  {
   "cell_type": "code",
   "execution_count": null,
   "metadata": {},
   "outputs": [],
   "source": []
  }
 ],
 "metadata": {
  "kernelspec": {
   "display_name": "Python 3.9.6 ('exo21cmFAST_release': venv)",
   "language": "python",
   "name": "python3"
  },
  "language_info": {
   "codemirror_mode": {
    "name": "ipython",
    "version": 3
   },
   "file_extension": ".py",
   "mimetype": "text/x-python",
   "name": "python",
   "nbconvert_exporter": "python",
   "pygments_lexer": "ipython3",
   "version": "3.9.6"
  },
  "orig_nbformat": 4,
  "vscode": {
   "interpreter": {
    "hash": "b978f4ecbf43ad133bda540fcbea492cd113875f61480fb8ce8c71a82633a1e6"
   }
  }
 },
 "nbformat": 4,
 "nbformat_minor": 2
}
